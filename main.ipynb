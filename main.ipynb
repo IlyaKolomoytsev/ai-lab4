{
 "cells": [
  {
   "metadata": {},
   "cell_type": "code",
   "source": [
    "import numpy as np\n",
    "import matplotlib.pyplot as plt\n",
    "from sklearn.model_selection import GridSearchCV\n",
    "from sklearn.neural_network import MLPClassifier\n",
    "from sklearn.preprocessing import StandardScaler\n",
    "from sklearn.metrics import accuracy_score, log_loss"
   ],
   "id": "fbc121e30a2defb3",
   "outputs": [],
   "execution_count": null
  },
  {
   "metadata": {},
   "cell_type": "code",
   "source": [
    "# load train data\n",
    "train_data = np.loadtxt(\"data/mnist_train.csv\", delimiter=',', dtype=int)\n",
    "test_data = np.loadtxt(\"data/mnist_test.csv\", delimiter=',', dtype=int)\n",
    "X_train, Y_train = train_data[:, 1:], train_data[:, 0]\n",
    "X_test, Y_test = test_data[:, 1:], test_data[:, 0]\n",
    "print(train_data.shape, test_data.shape)\n",
    "print(X_train.shape, Y_train.shape)"
   ],
   "id": "6ff283f54f86564f",
   "outputs": [],
   "execution_count": null
  },
  {
   "metadata": {},
   "cell_type": "code",
   "source": [
    "def draw_image_by_row(image_data):\n",
    "    if image_data.shape[0] != 28 * 28:\n",
    "        raise \"Incorrect Image Size\"\n",
    "\n",
    "    image_2d = image_data.reshape(28, 28)\n",
    "    # Отображаем изображение\n",
    "    plt.imshow(image_2d, cmap='gray')  # используем 'gray' для монохромного изображения\n",
    "    plt.axis('off')  # отключаем оси\n",
    "    plt.show()\n",
    "\n",
    "\n",
    "row_index = 0\n",
    "\n",
    "print(\"Image of number:\", Y_train[row_index])\n",
    "draw_image_by_row(X_train[row_index])"
   ],
   "id": "181a8bac7246229d",
   "outputs": [],
   "execution_count": null
  },
  {
   "metadata": {},
   "cell_type": "code",
   "source": [
    "# Normalization\n",
    "X_train = X_train/255\n",
    "X_test = X_test/255"
   ],
   "id": "2c9a4ffbd945723b",
   "outputs": [],
   "execution_count": null
  },
  {
   "metadata": {},
   "cell_type": "code",
   "source": [
    "def draw_learning_curves(train_losses, test_losses, train_accuracies, test_accuracies):\n",
    "    # Построение графиков\n",
    "    fig, (ax1, ax2) = plt.subplots(1, 2, figsize=(14, 6))\n",
    "\n",
    "    # График точности\n",
    "    ax1.plot(range(epochs), train_accuracies, label=\"Train Accuracy\")\n",
    "    ax1.plot(range(epochs), test_accuracies, label=\"Test Accuracy\")\n",
    "    ax1.set_title(\"Accuracy per Epoch (Train vs Test)\")\n",
    "    ax1.set_xlabel(\"Epochs\")\n",
    "    ax1.set_ylabel(\"Accuracy\")\n",
    "    ax1.legend()\n",
    "    ax1.grid(True)\n",
    "\n",
    "    # График потерь\n",
    "    ax2.plot(range(epochs), train_losses, label=\"Train Loss\")\n",
    "    ax2.plot(range(epochs), test_losses, label=\"Test Loss\")\n",
    "    ax2.set_title(\"Loss per Epoch (Train vs Test)\")\n",
    "    ax2.set_xlabel(\"Epochs\")\n",
    "    ax2.set_ylabel(\"Loss\")\n",
    "    ax2.legend()\n",
    "    ax2.grid(True)\n",
    "\n",
    "    plt.tight_layout()\n",
    "    plt.show()"
   ],
   "id": "1b1850f3295ee01e",
   "outputs": [],
   "execution_count": null
  },
  {
   "metadata": {},
   "cell_type": "markdown",
   "source": [
    "**Классический подход:**\n",
    "обучили, посмотрели результаты"
   ],
   "id": "d816a557682520b9"
  },
  {
   "metadata": {},
   "cell_type": "code",
   "source": [
    "mlp = MLPClassifier(\n",
    "    hidden_layer_sizes=[100],\n",
    "    batch_size=64,\n",
    ")\n",
    "mlp.fit(X_train, Y_train)"
   ],
   "id": "52ed56e3827ddeb4",
   "outputs": [],
   "execution_count": null
  },
  {
   "metadata": {},
   "cell_type": "code",
   "source": [
    "mlp = MLPClassifier(\n",
    "    hidden_layer_sizes=[100],\n",
    "    batch_size=64,\n",
    "    max_iter=1,\n",
    "    warm_start=True,\n",
    ")\n",
    "\n",
    "for i in range(20):\n",
    "    mlp.fit(X_train, Y_train)"
   ],
   "id": "5c31a2ab5d6b357a",
   "outputs": [],
   "execution_count": null
  },
  {
   "metadata": {},
   "cell_type": "code",
   "source": [
    "y_pred = mlp.predict(X_test)\n",
    "\n",
    "accuracy = accuracy_score(Y_test, y_pred)\n",
    "print(f'Accuracy: {accuracy * 100:.2f}%')"
   ],
   "id": "627e450fb8f6d8d4",
   "outputs": [],
   "execution_count": null
  },
  {
   "metadata": {},
   "cell_type": "code",
   "source": [
    "loss_curve = mlp.loss_curve_\n",
    "train_accuracy = mlp.score(X_train, Y_train)\n",
    "test_accuracy = mlp.score(X_test, Y_test)\n",
    "\n",
    "fig, ax = plt.subplots(1, 2, figsize=(15, 6))\n",
    "\n",
    "ax[0].plot(loss_curve, label=\"Loss\")\n",
    "ax[0].set_title(\"Learning Curve (Loss)\")\n",
    "ax[0].set_xlabel(\"Iterations\")\n",
    "ax[0].set_ylabel(\"Loss\")\n",
    "ax[0].legend()\n",
    "\n",
    "ax[1].plot(np.arange(len(loss_curve)), [train_accuracy] * len(loss_curve), label=\"Train Accuracy\", linestyle='--')\n",
    "ax[1].plot(np.arange(len(loss_curve)), [test_accuracy] * len(loss_curve), label=\"Test Accuracy\", linestyle='-.')\n",
    "ax[1].set_title(\"Learning Curve (Accuracy)\")\n",
    "ax[1].set_xlabel(\"Iterations\")\n",
    "ax[1].set_ylabel(\"Accuracy\")\n",
    "ax[1].legend()\n",
    "\n",
    "plt.tight_layout()\n",
    "plt.show()"
   ],
   "id": "272129a85d177f0d",
   "outputs": [],
   "execution_count": null
  },
  {
   "metadata": {},
   "cell_type": "markdown",
   "source": "**Итеративно обучаем модель**, собираем метрики после каждой эпохи",
   "id": "5645d5d451064469"
  },
  {
   "metadata": {},
   "cell_type": "code",
   "source": [
    "mlp = MLPClassifier(\n",
    "    hidden_layer_sizes=[100],\n",
    "    max_iter=1,\n",
    "    warm_start=True,\n",
    "    batch_size=64\n",
    ")\n",
    "\n",
    "train_accuracies = []\n",
    "test_accuracies = []\n",
    "train_losses = []\n",
    "test_losses = []\n",
    "\n",
    "epochs = 35\n",
    "mlp.fit(X_train, Y_train)\n",
    "for epoch in range(epochs):\n",
    "    mlp.partial_fit(X_train, Y_train)\n",
    "\n",
    "    train_accuracy = accuracy_score(Y_train, mlp.predict(X_train))\n",
    "    test_accuracy = accuracy_score(Y_test, mlp.predict(X_test))\n",
    "\n",
    "    train_loss = log_loss(Y_train, mlp.predict_proba(X_train))\n",
    "    test_loss = log_loss(Y_test, mlp.predict_proba(X_test))\n",
    "\n",
    "    train_accuracies.append(train_accuracy)\n",
    "    test_accuracies.append(test_accuracy)\n",
    "    train_losses.append(train_loss)\n",
    "    test_losses.append(test_loss)\n",
    "\n",
    "draw_learning_curves(train_losses, test_losses, train_accuracies, test_accuracies)\n",
    "print(f\"Test accuracy: {train_accuracies[-1] * 100:.2f}%\")\n",
    "print(f\"Test  loss: {train_losses[-1]:.5f}\")"
   ],
   "id": "fec8a24abc9f498",
   "outputs": [],
   "execution_count": null
  },
  {
   "metadata": {},
   "cell_type": "code",
   "source": [
    "param_grid = {\n",
    "    'hidden_layer_sizes': [[20], [100], [100, 20], [20, 100]],\n",
    "    'activation': ['relu', 'tanh', 'logistic'],\n",
    "    'batch_size': [64],\n",
    "    'max_iter': [100],\n",
    "}\n",
    "\n",
    "mlp = MLPClassifier()\n",
    "grid_search = GridSearchCV(\n",
    "    estimator=mlp,\n",
    "    param_grid=param_grid,\n",
    "    cv=3,\n",
    "    n_jobs=-1,\n",
    "    verbose=3,\n",
    ")\n",
    "grid_search.fit(X_train, Y_train)\n",
    "print(\"Best params:\", grid_search.best_params_)\n",
    "print(\"Final score (test data):\", grid_search.score(X_test, Y_test))\n"
   ],
   "id": "e9a9366327281efc",
   "outputs": [],
   "execution_count": null
  },
  {
   "metadata": {},
   "cell_type": "code",
   "source": [
    "param_grid = {\n",
    "    'hidden_layer_sizes': [[100, 20], [30, 80], [150, 40], [100, 50, 20]],\n",
    "    'activation': ['relu', 'tanh', 'logistic'],\n",
    "    'batch_size': [64],\n",
    "    'max_iter': [100],\n",
    "}\n",
    "\n",
    "mlp = MLPClassifier()\n",
    "grid_search = GridSearchCV(\n",
    "    estimator=mlp,\n",
    "    param_grid=param_grid,\n",
    "    cv=3,\n",
    "    n_jobs=-1,\n",
    "    verbose=3,\n",
    ")\n",
    "grid_search.fit(X_train, Y_train)\n",
    "print(\"Best params:\", grid_search.best_params_)\n",
    "print(\"Final score (test data):\", grid_search.score(X_test, Y_test))\n"
   ],
   "id": "afe74d4dc58c6c8b",
   "outputs": [],
   "execution_count": null
  },
  {
   "metadata": {},
   "cell_type": "code",
   "source": "",
   "id": "80e70d7cb6060450",
   "outputs": [],
   "execution_count": null
  }
 ],
 "metadata": {
  "kernelspec": {
   "display_name": "Python 3",
   "language": "python",
   "name": "python3"
  },
  "language_info": {
   "codemirror_mode": {
    "name": "ipython",
    "version": 2
   },
   "file_extension": ".py",
   "mimetype": "text/x-python",
   "name": "python",
   "nbconvert_exporter": "python",
   "pygments_lexer": "ipython2",
   "version": "2.7.6"
  }
 },
 "nbformat": 4,
 "nbformat_minor": 5
}
